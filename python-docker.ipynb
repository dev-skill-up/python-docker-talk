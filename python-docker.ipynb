{
 "cells": [
  {
   "cell_type": "markdown",
   "metadata": {},
   "source": [
    "```{=latex}\n",
    "\\usepackage{hyperref}\n",
    "\\usepackage{graphicx}\n",
    "\\usepackage{listings}\n",
    "\\usepackage{textcomp}\n",
    "\\usepackage{fancyvrb}\n",
    "\n",
    "\\newcommand{\\passthrough}[1]{\\lstset{mathescape=false}#1\\lstset{mathescape=true}}\n",
    "```"
   ]
  },
  {
   "cell_type": "markdown",
   "metadata": {},
   "source": [
    "```{=latex}\n",
    "\\title{Building Containers for Python Applications}\n",
    "\\author{Moshe Zadka -- https://cobordism.com}\n",
    "\\date{2021}\n",
    "\n",
    "\\begin{document}\n",
    "\\begin{titlepage}\n",
    "\\maketitle\n",
    "\\end{titlepage}\n",
    "\n",
    "\\frame{\\titlepage}\n",
    "```"
   ]
  },
  {
   "cell_type": "markdown",
   "metadata": {},
   "source": [
    "```{=latex}\n",
    "\\begin{frame}\n",
    "\\frametitle{Acknowledgement of Country}\n",
    "\n",
    "Belmont (in San Francisco Bay Area Peninsula)\n",
    "\n",
    "Ancestral homeland of the Ramaytush Ohlone\n",
    "\n",
    "\\end{frame}\n",
    "```"
   ]
  },
  {
   "cell_type": "markdown",
   "metadata": {},
   "source": [
    "## Good and Bad"
   ]
  },
  {
   "cell_type": "markdown",
   "metadata": {},
   "source": [
    "```{=latex}\n",
    "\\begin{frame}\n",
    "\\frametitle{What is good}\n",
    "\n",
    "\\pause\n",
    "\n",
    "\n",
    "\\begin{itemize}\n",
    "\\item To crush your enemies \\pause\n",
    "\\item To see them driven before you \\pause\n",
    "\\item Um, wrong slides\n",
    "\\end{itemize}\n",
    "\n",
    "\n",
    "\\end{frame}\n",
    "```\n",
    "\n",
    "```{=latex}\n",
    "\\begin{frame}\n",
    "\\frametitle{What is good}\n",
    "\n",
    "\\begin{itemize}\n",
    "\\item Fast \\pause\n",
    "\\item Small \\pause\n",
    "\\item Secure \\pause\n",
    "\\item Usable\n",
    "\\end{itemize}\n",
    "\n",
    "\\end{frame}\n",
    "```"
   ]
  },
  {
   "cell_type": "markdown",
   "metadata": {},
   "source": [
    "```{=latex}\n",
    "\\begin{frame}\n",
    "\\frametitle{Specifying the requirements}\n",
    "\n",
    "Let's be more concrete\n",
    "\n",
    "\\begin{itemize}\n",
    "\\item Reproducible builds \\pause\n",
    "\\item Keep up to date \\pause\n",
    "\\item No compilers in prod \\pause\n",
    "\\item Keep size (reasonably) small\n",
    "\\end{itemize}\n",
    "\n",
    "\\end{frame}\n",
    "```"
   ]
  },
  {
   "cell_type": "markdown",
   "metadata": {},
   "source": [
    "```{=latex}\n",
    "\\begin{frame}\n",
    "\\frametitle{Up to date}\n",
    "\n",
    "\\begin{itemize}\n",
    "\\item Install security updates \\pause\n",
    "\\item But when?\n",
    "\\end{itemize}\n",
    "\n",
    "\n",
    "\\end{frame}\n",
    "```"
   ]
  },
  {
   "cell_type": "markdown",
   "metadata": {},
   "source": [
    "```{=latex}\n",
    "\\begin{frame}\n",
    "\\frametitle{Reproducible builds}\n",
    "\n",
    "Same code gives same results \\pause\n",
    "\n",
    "...mostly\n",
    "\n",
    "\\end{frame}\n",
    "```"
   ]
  },
  {
   "cell_type": "markdown",
   "metadata": {},
   "source": [
    "```{=latex}\n",
    "\\begin{frame}\n",
    "\\frametitle{No compilers in prod}\n",
    "\n",
    "A common anti-pattern \\pause\n",
    "\n",
    "...surprisingly easy to get wrong!\n",
    "\n",
    "\n",
    "\\end{frame}\n",
    "```"
   ]
  },
  {
   "cell_type": "markdown",
   "metadata": {},
   "source": [
    "```{=latex}\n",
    "\\begin{frame}\n",
    "\\frametitle{Size}\n",
    "\n",
    "\\begin{itemize}\n",
    "\\item Diminishing returns \\pause\n",
    "\\item Cost savings\n",
    "\\end{itemize}\n",
    "\n",
    "\\end{frame}\n",
    "```"
   ]
  },
  {
   "cell_type": "markdown",
   "metadata": {},
   "source": [
    "```{=latex}\n",
    "\\begin{frame}\n",
    "\\frametitle{Support binary wheels}\n",
    "\n",
    "Installing and building \\pause\n",
    "\n",
    "Faster \\pause\n",
    "\n",
    "Simplifies images\n",
    "\n",
    "\n",
    "\\end{frame}\n",
    "```"
   ]
  },
  {
   "cell_type": "markdown",
   "metadata": {},
   "source": [
    "```{=latex}\n",
    "\\begin{frame}\n",
    "\\frametitle{Not run as root}\n",
    "\n",
    "General hygiene\n",
    "\n",
    "\\end{frame}\n",
    "```"
   ]
  },
  {
   "cell_type": "markdown",
   "metadata": {},
   "source": [
    "```{=latex}\n",
    "\\begin{frame}\n",
    "\\frametitle{Minimal privileges}\n",
    "\n",
    "Especially avoid permissions to \\lstinline|pip install|\n",
    "\n",
    "\\end{frame}\n",
    "```"
   ]
  },
  {
   "cell_type": "markdown",
   "metadata": {},
   "source": [
    "```{=latex}\n",
    "\\begin{frame}\n",
    "\\frametitle{Fast rebuilds}\n",
    "\n",
    "Responsiveness!\n",
    "\n",
    "\\end{frame}\n",
    "```"
   ]
  },
  {
   "cell_type": "markdown",
   "metadata": {},
   "source": [
    "## Bases"
   ]
  },
  {
   "cell_type": "markdown",
   "metadata": {},
   "source": [
    "```{=latex}\n",
    "\\begin{frame}\n",
    "\\frametitle{Base OS}\n",
    "\n",
    "The distro wars are back?\n",
    "\n",
    "\\end{frame}\n",
    "```"
   ]
  },
  {
   "cell_type": "markdown",
   "metadata": {},
   "source": [
    "```{=latex}\n",
    "\\begin{frame}\n",
    "\\frametitle{Base - size}\n",
    "\n",
    "Most modern distros have a decent minimal server \\pause\n",
    "\n",
    "...but Debian is easiest to get smallest.\n",
    "\n",
    "\n",
    "\\end{frame}\n",
    "```"
   ]
  },
  {
   "cell_type": "markdown",
   "metadata": {},
   "source": [
    "```{=latex}\n",
    "\\begin{frame}\n",
    "\\frametitle{Base - LTS/support}\n",
    "\n",
    "Usually around 5 years \\pause\n",
    "\n",
    "Gives you time to upgrade!\n",
    "\n",
    "\n",
    "\\end{frame}\n",
    "```"
   ]
  },
  {
   "cell_type": "markdown",
   "metadata": {},
   "source": [
    "```{=latex}\n",
    "\\begin{frame}\n",
    "\\frametitle{Base - Volatility}\n",
    "\n",
    "How much change?\n",
    "\n",
    "Security? Backports? Fixes?\n",
    "\n",
    "\\end{frame}\n",
    "```"
   ]
  },
  {
   "cell_type": "markdown",
   "metadata": {},
   "source": [
    "```{=latex}\n",
    "\\begin{frame}\n",
    "\\frametitle{Debian}\n",
    "\n",
    "LTS: 5 years\n",
    "\n",
    "Conservative\n",
    "\n",
    "\n",
    "\\end{frame}\n",
    "```"
   ]
  },
  {
   "cell_type": "markdown",
   "metadata": {},
   "source": [
    "```{=latex}\n",
    "\\begin{frame}\n",
    "\\frametitle{Ubuntu}\n",
    "\n",
    "LTS: 5 years\n",
    "\n",
    "(Universe, Multiverse, etc...)\n",
    "\n",
    "Fairly conservative\n",
    "\n",
    "\\end{frame}\n",
    "```"
   ]
  },
  {
   "cell_type": "markdown",
   "metadata": {},
   "source": [
    "```{=latex}\n",
    "\\begin{frame}\n",
    "\\frametitle{Alpine (probably not)}\n",
    "\n",
    "Uses musl, not manylinux compatible\n",
    "\n",
    "\\end{frame}\n",
    "```"
   ]
  },
  {
   "cell_type": "markdown",
   "metadata": {},
   "source": [
    "```{=latex}\n",
    "\\begin{frame}\n",
    "\\frametitle{Rolling releases (probably not)}\n",
    "\n",
    "Up to date, but... \\pause\n",
    "\n",
    "updates can change major versions!\n",
    "\n",
    "\n",
    "\\end{frame}\n",
    "```"
   ]
  },
  {
   "cell_type": "markdown",
   "metadata": {},
   "source": [
    "```{=latex}\n",
    "\\begin{frame}\n",
    "\\frametitle{CentOS}\n",
    "\n",
    "Rolling release!\n",
    "\n",
    "\\end{frame}\n",
    "```"
   ]
  },
  {
   "cell_type": "markdown",
   "metadata": {},
   "source": [
    "## Installing Python"
   ]
  },
  {
   "cell_type": "markdown",
   "metadata": {},
   "source": [
    "```{=latex}\n",
    "\\begin{frame}\n",
    "\\frametitle{How to get Python?}\n",
    "\n",
    "So many options...\n",
    "\n",
    "\\end{frame}\n",
    "```"
   ]
  },
  {
   "cell_type": "markdown",
   "metadata": {},
   "source": [
    "```{=latex}\n",
    "\\begin{frame}\n",
    "\\frametitle{Not system Python}\n",
    "\n",
    "Distros aim Python at distro packages\\pause\n",
    "\n",
    "not user programs.\n",
    "\n",
    "\\end{frame}\n",
    "```"
   ]
  },
  {
   "cell_type": "markdown",
   "metadata": {},
   "source": [
    "```{=latex}\n",
    "\\begin{frame}\n",
    "\\frametitle{Appropriate repositories}\n",
    "\n",
    "Famous examples: deadsnakes PPA for Ubuntu\n",
    "\n",
    "\\end{frame}\n",
    "```"
   ]
  },
  {
   "cell_type": "markdown",
   "metadata": {},
   "source": [
    "```{=latex}\n",
    "\\begin{frame}\n",
    "\\frametitle{pyenv}\n",
    "\n",
    "Builds and installs Python\n",
    "\n",
    "\n",
    "\\end{frame}\n",
    "```"
   ]
  },
  {
   "cell_type": "markdown",
   "metadata": {},
   "source": [
    "```{=latex}\n",
    "\\begin{frame}\n",
    "\\frametitle{python-build}\n",
    "\n",
    "Builds and installs Python\n",
    "\n",
    "\\end{frame}\n",
    "```"
   ]
  },
  {
   "cell_type": "markdown",
   "metadata": {},
   "source": [
    "```{=latex}\n",
    "\\begin{frame}[fragile]\n",
    "\\frametitle{Source}\n",
    "\n",
    "\\begin{lstlisting}\n",
    "RUN configure [...]\n",
    "RUN make\n",
    "RUN make install\n",
    "\\end{lstlisting}\n",
    "\n",
    "\\end{frame}\n",
    "```"
   ]
  },
  {
   "cell_type": "markdown",
   "metadata": {},
   "source": [
    "```{=latex}\n",
    "\\begin{frame}\n",
    "\\frametitle{Trade-offs}\n",
    "\n",
    "Control vs. Work vs. Problems\n",
    "\n",
    "\\end{frame}\n",
    "```"
   ]
  },
  {
   "cell_type": "markdown",
   "metadata": {},
   "source": [
    "```{=latex}\n",
    "\\begin{frame}\n",
    "\\frametitle{Versions}\n",
    "\n",
    "Support multiple for upgrade path\\pause\n",
    "\n",
    "2-3\n",
    "\n",
    "\n",
    "\\end{frame}\n",
    "```"
   ]
  },
  {
   "cell_type": "markdown",
   "metadata": {},
   "source": [
    "## Thinking in Stages"
   ]
  },
  {
   "cell_type": "markdown",
   "metadata": {},
   "source": [
    "```{=latex}\n",
    "\\begin{frame}\n",
    "\\frametitle{Docker multistage (quick recap)}\n",
    "\n",
    "Only one stage output \\pause\n",
    "\n",
    "other stages help\n",
    "\n",
    "\\end{frame}\n",
    "```"
   ]
  },
  {
   "cell_type": "markdown",
   "metadata": {},
   "source": [
    "```{=latex}\n",
    "\\begin{frame}\n",
    "\\frametitle{FROM}\n",
    "\n",
    "Use previous stage as starting image\n",
    "\n",
    "\\end{frame}\n",
    "```"
   ]
  },
  {
   "cell_type": "markdown",
   "metadata": {},
   "source": [
    "```{=latex}\n",
    "\\begin{frame}\n",
    "\\frametitle{COPY --from}\n",
    "\n",
    "Copy files from previous stage\n",
    "\n",
    "\\end{frame}\n",
    "```"
   ]
  },
  {
   "cell_type": "markdown",
   "metadata": {},
   "source": [
    "```{=latex}\n",
    "\\begin{frame}[fragile]\n",
    "\\frametitle{Stages a as modules}\n",
    "\n",
    "\\begin{lstlisting}\n",
    "FROM ubuntu as security-updates\n",
    "RUN add-apt-repository ppa:deadsnakes/ppa\n",
    "RUN apt-get update\n",
    "RUN apt-get upgrade\n",
    "\n",
    "FROM security-updates as with-38\n",
    "RUN apt-get install python3.8\n",
    "\n",
    "FROM security-updates as with-39\n",
    "RUN apt-get install python3.9\n",
    "\\end{lstlisting}\n",
    "\n",
    "\\end{frame}\n",
    "```"
   ]
  },
  {
   "cell_type": "markdown",
   "metadata": {},
   "source": [
    "```{=latex}\n",
    "\\begin{frame}[fragile]\n",
    "\\frametitle{Separate build and runtime}\n",
    "\n",
    "Especially when building from source! \\pause\n",
    "\n",
    "\\begin{lstlisting}\n",
    "FROM ubuntu as builder\n",
    "# install build dependencies\n",
    "# build Python into /opt/myorg/python\n",
    "\n",
    "FROM ubuntu as as runtime\n",
    "COPY --from=builder \\\n",
    "      /opt/myorg/python \\\n",
    "      /opt/myorg/python\n",
    "\\end{lstlisting}\n",
    "\n",
    "\\end{frame}\n",
    "```"
   ]
  },
  {
   "cell_type": "markdown",
   "metadata": {},
   "source": [
    "```{=latex}\n",
    "\\begin{frame}[fragile]\n",
    "\\frametitle{Optimizing layers}\n",
    "\n",
    "Put everything under \\lstinline|/opt/myorg|\n",
    "\n",
    "Use one \\lstinline|COPY --from=...|\n",
    "\n",
    "\n",
    "\\end{frame}\n",
    "```"
   ]
  },
  {
   "cell_type": "markdown",
   "metadata": {},
   "source": [
    "```{=latex}\n",
    "\\begin{frame}\n",
    "\\frametitle{Optimizing size}\n",
    "\n",
    "After building Python, remove:\n",
    "\n",
    "\\begin{itemize}\n",
    "\\item Tests\n",
    "\\item Builder dependencies (in runtime)\n",
    "\\item ....and more\n",
    "\\end{itemize}\n",
    "\n",
    "\\end{frame}\n",
    "```"
   ]
  },
  {
   "cell_type": "markdown",
   "metadata": {},
   "source": [
    "## Use in Applications"
   ]
  },
  {
   "cell_type": "markdown",
   "metadata": {},
   "source": [
    "```{=latex}\n",
    "\\begin{frame}\n",
    "\\frametitle{Binary wheels}\n",
    "\n",
    "\\begin{itemize}\n",
    "\\item Build with builder\n",
    "\\item Copy to runtime\n",
    "\\item Install in virtual environment\n",
    "\\end{itemize}\n",
    "\n",
    "\n",
    "\\end{frame}\n",
    "```"
   ]
  },
  {
   "cell_type": "markdown",
   "metadata": {},
   "source": [
    "```{=latex}\n",
    "\\begin{frame}\n",
    "\\frametitle{Binary wheels (alt)}\n",
    "\n",
    "\\begin{itemize}\n",
    "\\item Build with builder\n",
    "\\item Install in virtual environment\n",
    "\\item Copy virtual environment to runtime\n",
    "\\end{itemize}\n",
    "\n",
    "\n",
    "\\end{frame}\n",
    "```"
   ]
  },
  {
   "cell_type": "markdown",
   "metadata": {},
   "source": [
    "```{=latex}\n",
    "\\begin{frame}\n",
    "\\frametitle{Patchelf}\n",
    "\n",
    "Used to make wheels self-contained\n",
    "\n",
    "Newst version needed\n",
    "\n",
    "\\end{frame}\n",
    "```"
   ]
  },
  {
   "cell_type": "markdown",
   "metadata": {},
   "source": [
    "```{=latex}\n",
    "\\begin{frame}\n",
    "\\frametitle{Auditwheel}\n",
    "\n",
    "Use pip to install\n",
    "\n",
    "\\end{frame}\n",
    "```"
   ]
  },
  {
   "cell_type": "markdown",
   "metadata": {},
   "source": [
    "```{=latex}\n",
    "\\begin{frame}[fragile]\n",
    "\\frametitle{Self-contained binary wheels}\n",
    "\n",
    "Run \n",
    "\n",
    "\\begin{lstlisting}\n",
    "auditwheel repair --platform linux_x86_64\n",
    "\\end{lstlisting}\n",
    "\n",
    "\\pause\n",
    "\n",
    "No need for binary dependencies!\n",
    "\\end{frame}\n",
    "```"
   ]
  },
  {
   "cell_type": "markdown",
   "metadata": {},
   "source": [
    "```{=latex}\n",
    "\\begin{frame}[fragile]\n",
    "\\frametitle{Portable binary wheels}\n",
    "\n",
    "\\begin{itemize}\n",
    "\\item Oldest supported?\n",
    "\\end{itemize} \n",
    "\n",
    "\\pause\n",
    "\n",
    "Example:\n",
    "\n",
    "\\begin{lstlisting}\n",
    "auditwheel repair --platform manylinux_2_27_x86_64\n",
    "\\end{lstlisting}\n",
    "\n",
    "\n",
    "\\end{frame}\n",
    "```"
   ]
  },
  {
   "cell_type": "markdown",
   "metadata": {},
   "source": [
    "```{=latex}\n",
    "\\begin{frame}\n",
    "\\frametitle{Generating binary wheels}\n",
    "\n",
    "Build instructions in docs\n",
    "\\pause\n",
    "\n",
    "Build dependencies\n",
    "\n",
    "\\end{frame}\n",
    "```"
   ]
  },
  {
   "cell_type": "markdown",
   "metadata": {},
   "source": [
    "```{=latex}\n",
    "\\begin{frame}\n",
    "\\frametitle{Optimizing layers}\n",
    "\n",
    "Reduce copies\n",
    "\\pause\n",
    "\n",
    "Prep\n",
    "\n",
    "\\end{frame}\n",
    "```"
   ]
  },
  {
   "cell_type": "markdown",
   "metadata": {},
   "source": [
    "```{=latex}\n",
    "\\begin{frame}\n",
    "\\frametitle{Optimizing caching}\n",
    "\n",
    "\n",
    "Where to build wheel?\n",
    "\n",
    "\\pause\n",
    "\n",
    "What invalidates caching?\n",
    "\n",
    "\n",
    "\\end{frame}\n",
    "```"
   ]
  },
  {
   "cell_type": "markdown",
   "metadata": {},
   "source": [
    "## Final Thoughts"
   ]
  },
  {
   "cell_type": "markdown",
   "metadata": {},
   "source": [
    "```{=latex}\n",
    "\\begin{frame}\n",
    "\\frametitle{Conclusion}\n",
    "\n",
    "\\begin{itemize}\n",
    "\\item Wrong easier than right \\pause\n",
    "\\item But right is amazing \\pause\n",
    "\\item Think before  you docker\n",
    "\\end{itemize}\n",
    "\n",
    "\\end{frame}\n",
    "```"
   ]
  },
  {
   "cell_type": "markdown",
   "metadata": {},
   "source": [
    "```{=latex}\n",
    "\\begin{frame}\n",
    "\\frametitle{Further Resources}\n",
    "\n",
    "Itamar's series -- https://pythonspeed.com/docker/\n",
    "\n",
    "\\end{frame}\n",
    "```"
   ]
  },
  {
   "cell_type": "markdown",
   "metadata": {},
   "source": [
    "```{=latex}\n",
    "\\end{document}\n",
    "```"
   ]
  },
  {
   "cell_type": "markdown",
   "metadata": {},
   "source": []
  }
 ],
 "metadata": {
  "kernelspec": {
   "display_name": "Python 3",
   "language": "python",
   "name": "python3"
  },
  "language_info": {
   "codemirror_mode": {
    "name": "ipython",
    "version": 3
   },
   "file_extension": ".py",
   "mimetype": "text/x-python",
   "name": "python",
   "nbconvert_exporter": "python",
   "pygments_lexer": "ipython3",
   "version": "3.9.0"
  }
 },
 "nbformat": 4,
 "nbformat_minor": 4
}
